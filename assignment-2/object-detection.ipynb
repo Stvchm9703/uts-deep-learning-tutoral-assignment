{
 "cells": [
  {
   "cell_type": "code",
   "execution_count": null,
   "metadata": {},
   "outputs": [],
   "source": [
    "!conda env create -f environment.yml -n uts-dl-torch\n",
    "\n",
    "!conda activate uts-dl-torch\n"
   ]
  },
  {
   "cell_type": "code",
   "execution_count": null,
   "metadata": {},
   "outputs": [],
   "source": [
    "!git clone https://github.com/Megvii-BaseDetection/YOLOX.git /model-repo/YOLOX\n",
    "\n"
   ]
  },
  {
   "cell_type": "code",
   "execution_count": null,
   "metadata": {},
   "outputs": [],
   "source": [
    "import torch\n",
    "import torchvision\n",
    "import torchvision.transforms as transforms\n",
    "import torchvision.datasets as datasets\n",
    "\n",
    "\n",
    "train_ds = datasets.CocoDetection(\n",
    "    root=\"./dataset/Object_Detection/coco/train\",\n",
    "    annFile=\"./dataset/Object_Detection/coco/train/train_annotations.json\",\n",
    ")\n",
    "\n",
    "vaild_ds = datasets.CocoDetection(\n",
    "    root=\"./dataset/Object_Detection/coco/valid\",\n",
    "    annFile=\"./dataset/Object_Detection/coco/valid/valid_annotations.json\",\n",
    ")\n",
    "\n",
    "test_ds = datasets.CocoDetection(\n",
    "    root=\"./dataset/Object_Detection/coco/test\",\n",
    "    annFile=\"./dataset/Object_Detection/coco/test/test_annotations.json\",\n",
    ")\n",
    "\n"
   ]
  },
  {
   "cell_type": "code",
   "execution_count": null,
   "metadata": {},
   "outputs": [],
   "source": []
  },
  {
   "cell_type": "code",
   "execution_count": null,
   "metadata": {},
   "outputs": [],
   "source": [
    "# yolox = keras.applications.YOLOX"
   ]
  }
 ],
 "metadata": {
  "kernelspec": {
   "display_name": "Python 3",
   "language": "python",
   "name": "python3"
  },
  "language_info": {
   "codemirror_mode": {
    "name": "ipython",
    "version": 3
   },
   "file_extension": ".py",
   "mimetype": "text/x-python",
   "name": "python",
   "nbconvert_exporter": "python",
   "pygments_lexer": "ipython3",
   "version": "3.11.5"
  }
 },
 "nbformat": 4,
 "nbformat_minor": 2
}
