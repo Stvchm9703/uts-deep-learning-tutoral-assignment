{
 "cells": [
  {
   "cell_type": "code",
   "execution_count": 10,
   "metadata": {},
   "outputs": [
    {
     "name": "stdout",
     "output_type": "stream",
     "text": [
      "3236\n"
     ]
    }
   ],
   "source": [
    "# setup the const variables\n",
    "\n",
    "# the path of the data\n",
    "DATA_PATH = (\n",
    "    \"dataset/Image_Classification/dataset_24581896\"\n",
    ")\n",
    "import glob\n",
    "maximum_file = [x for x in glob.glob(f\"{DATA_PATH}/**/*.jpg\")]\n",
    "print(len(maximum_file))\n",
    "\n",
    "BATCH_SIZE = 32\n",
    "STEP_PER_EPOCH = len(maximum_file) // BATCH_SIZE\n",
    "EPOCH = 50\n"
   ]
  },
  {
   "cell_type": "code",
   "execution_count": 7,
   "metadata": {},
   "outputs": [],
   "source": [
    "import tensorflow as tf\n",
    "import tensorflow.keras.preprocessing as prep\n",
    "\n",
    "\n",
    "\n",
    "def prepare_data(data_path, batch_size):\n",
    "    # # create a image generator\n",
    "    img_gen = prep.image.ImageDataGenerator(\n",
    "        rescale=1.0 / 255,\n",
    "        rotation_range=30,\n",
    "        width_shift_range=0.05,\n",
    "        height_shift_range=0.05,    \n",
    "        zoom_range=0.5  ,\n",
    "        horizontal_flip=True,\n",
    "        vertical_flip=True,\n",
    "        validation_split=0.2,\n",
    "    )\n",
    "\n",
    "    # load the data\n",
    "    train_ds = img_gen.flow_from_directory(\n",
    "        data_path,\n",
    "        class_mode=\"categorical\",\n",
    "        target_size=(256, 256),\n",
    "        seed=24581896,\n",
    "        subset=\"training\",\n",
    "        batch_size=batch_size,\n",
    "    )\n",
    "\n",
    "    val_ds = img_gen.flow_from_directory(\n",
    "        data_path,\n",
    "        class_mode=\"categorical\",\n",
    "        target_size=(256, 256),\n",
    "        seed=24581896,\n",
    "        subset=\"validation\",\n",
    "        batch_size=batch_size,\n",
    "    )\n",
    "\n",
    "    labels = train_ds.class_indices.keys()\n",
    "    num_classes = len(labels)\n",
    "\n",
    "    return train_ds, val_ds, labels, num_classes"
   ]
  },
  {
   "cell_type": "code",
   "execution_count": null,
   "metadata": {},
   "outputs": [],
   "source": []
  },
  {
   "cell_type": "code",
   "execution_count": 67,
   "metadata": {},
   "outputs": [
    {
     "name": "stdout",
     "output_type": "stream",
     "text": [
      "Found 2596 images belonging to 20 classes.\n",
      "Found 640 images belonging to 20 classes.\n"
     ]
    }
   ],
   "source": [
    "train_ds, val_ds, class_names, num_classes = prepare_data(DATA_PATH, BATCH_SIZE)"
   ]
  },
  {
   "cell_type": "code",
   "execution_count": 68,
   "metadata": {},
   "outputs": [
    {
     "data": {
      "text/plain": [
       "dict_keys(['AMETHYST WOODSTAR', 'BLACK THROATED HUET', 'Bedlington_terrier', 'CAMPO FLICKER', 'DOWNY WOODPECKER', 'ELEGANT TROGON', 'EntleBucher', 'FIERY MINIVET', 'GREATER PRAIRIE CHICKEN', 'Great_Dane', 'KING EIDER', 'KING VULTURE', 'ORNATE HAWK EAGLE', 'Saint_Bernard', 'Shetland_sheepdog', 'Walker_hound', 'black-and-tan_coonhound', 'boxer', 'dingo', 'toy_terrier'])"
      ]
     },
     "execution_count": 68,
     "metadata": {},
     "output_type": "execute_result"
    }
   ],
   "source": [
    "type(train_ds)\n",
    "# train_ds.labels\n",
    "train_ds.class_indices.keys()"
   ]
  },
  {
   "cell_type": "markdown",
   "metadata": {},
   "source": [
    "## step 2. Create a Classifiers mdoel \n",
    "\n",
    "1. Customize AlexNet/GoogleNet/ResNet etc. and reduce/increase the layers, Train, and Test for image classification."
   ]
  },
  {
   "cell_type": "code",
   "execution_count": 71,
   "metadata": {},
   "outputs": [],
   "source": [
    "import tensorflow\n",
    "import tensorflow.keras\n",
    "from tensorflow.keras import models, layers, applications as apps, callbacks\n",
    "import os\n",
    "\n",
    "from datetime import datetime\n",
    "\n",
    "# from models.inception_v4 import inception_v4\n",
    "\n",
    "# resnet implement\n",
    "\n",
    "\n",
    "def view_train_chart(history):\n",
    "    loss = history.history[\"loss\"]\n",
    "    val_loss = history.history[\"val_loss\"]\n",
    "    epochs = range(len(loss))\n",
    "    import matplotlib.pyplot as plt\n",
    "    plt.figure()\n",
    "    plt.plot(epochs, loss, \"r\", label=\"Training loss\")\n",
    "    plt.plot(epochs, val_loss, \"b\", label=\"Validation loss\")\n",
    "    plt.title(\"Training and validation loss\")\n",
    "    plt.legend()\n",
    "\n",
    "def create_model__resnetv2(num_classes):\n",
    "    # init\n",
    "    model = models.Sequential(\n",
    "        [\n",
    "            layers.Input((256, 256, 3)),\n",
    "            apps.ResNet152V2(\n",
    "                include_top=False,\n",
    "                weights=\"imagenet\",\n",
    "                pooling=\"avg\",\n",
    "            ),\n",
    "            layers.Flatten(),\n",
    "            layers.Dense(4096, activation=\"relu\"),\n",
    "            layers.Dense(1000, activation=\"relu\"),\n",
    "            layers.Dense(num_classes, activation=\"softmax\", name=\"predictions\"),\n",
    "        ]\n",
    "    )\n",
    "\n",
    "    return model\n",
    "\n",
    "\n",
    "# google net (inception_v4)\n",
    "def create_model__inception_v3(num_classes):\n",
    "    model = models.Sequential(\n",
    "        [\n",
    "            layers.Input((256, 256, 3)),\n",
    "            apps.InceptionV3(\n",
    "                include_top=False,\n",
    "                weights=\"imagenet\",\n",
    "                pooling=\"avg\",\n",
    "            ),\n",
    "            layers.Flatten(),\n",
    "            layers.Dense(4096, activation=\"relu\"),\n",
    "            layers.Dense(1000, activation=\"relu\"),\n",
    "            layers.Dense(num_classes, activation=\"softmax\", name=\"predictions\"),\n",
    "        ]\n",
    "    )\n",
    "    # include_top = (True,)\n",
    "    # weights = (\"imagenet\",)\n",
    "    # input_tensor = (None,)\n",
    "    # input_shape = (None,)\n",
    "    # pooling = (None,)\n",
    "    # classes = (1000,)\n",
    "    # classifier_activation = \"softmax\"\n",
    "    return model\n",
    "\n",
    "\n",
    "def train_model(model,model_name, train_ds, val_ds):\n",
    "    # init\n",
    "\n",
    "    now_time = f\"{datetime.now():%Y-%m-%d_%H-%M-%S}\"\n",
    "\n",
    "    log_file_name = f\"./logs/training__{model_name}__{now_time}.csv\"\n",
    "\n",
    "    open(log_file_name, 'a').close()\n",
    "\n",
    "    model.compile(\n",
    "        loss=\"categorical_crossentropy\",\n",
    "        optimizer=\"adam\",\n",
    "        metrics=[\"acc\"],\n",
    "    )\n",
    "\n",
    "    ckp_weights_dir = f\"./ckp_weights/img_clsr/{model_name}__{now_time}/\"\n",
    "    os.makedirs(ckp_weights_dir, exist_ok=True)\n",
    "\n",
    "    checkpoint = callbacks.ModelCheckpoint(\n",
    "        ckp_weights_dir + \"{epoch:02d}-{val_loss:.2f}.weights.h5\",\n",
    "        monitor=\"val_loss\",\n",
    "        verbose=0,\n",
    "        save_best_only=True,\n",
    "        save_weights_only=True,\n",
    "        mode=\"auto\",\n",
    "        save_freq=\"epoch\",\n",
    "    )\n",
    "\n",
    "    cv_logging = callbacks.CSVLogger(log_file_name, separator=\",\", append=True)\n",
    "    history = model.fit(\n",
    "        train_ds,\n",
    "        steps_per_epoch=STEP_PER_EPOCH,  # 2000 images = batch_size * steps\n",
    "        epochs=EPOCH,\n",
    "        validation_data=val_ds,\n",
    "        validation_steps=STEP_PER_EPOCH//4,  # 1000 images = batch_size * steps\n",
    "        callbacks=[checkpoint, cv_logging],\n",
    "    )\n",
    "\n",
    "    return model, history"
   ]
  },
  {
   "cell_type": "code",
   "execution_count": 11,
   "metadata": {},
   "outputs": [
    {
     "ename": "NameError",
     "evalue": "name 'create_model__resnetv2' is not defined",
     "output_type": "error",
     "traceback": [
      "\u001b[0;31m---------------------------------------------------------------------------\u001b[0m",
      "\u001b[0;31mNameError\u001b[0m                                 Traceback (most recent call last)",
      "Cell \u001b[0;32mIn[11], line 6\u001b[0m\n\u001b[1;32m      1\u001b[0m \u001b[38;5;66;03m# test run, with cpu\u001b[39;00m\n\u001b[1;32m      2\u001b[0m \n\u001b[1;32m      3\u001b[0m \u001b[38;5;66;03m# train_ds, val_ds, class_names, num_classes\u001b[39;00m\n\u001b[1;32m      4\u001b[0m \u001b[38;5;66;03m# with tensorflow.device(\"/CPU:0\"):\u001b[39;00m\n\u001b[1;32m      5\u001b[0m mod_name \u001b[38;5;241m=\u001b[39m \u001b[38;5;124m\"\u001b[39m\u001b[38;5;124mResNet151V2\u001b[39m\u001b[38;5;124m\"\u001b[39m\n\u001b[0;32m----> 6\u001b[0m resnet_mod \u001b[38;5;241m=\u001b[39m \u001b[43mcreate_model__resnetv2\u001b[49m(num_classes)\n\u001b[1;32m      7\u001b[0m resnet_mod, hist \u001b[38;5;241m=\u001b[39m train_model(\n\u001b[1;32m      8\u001b[0m     resnet_mod, model_name\u001b[38;5;241m=\u001b[39mmod_name, train_ds\u001b[38;5;241m=\u001b[39mtrain_ds, val_ds\u001b[38;5;241m=\u001b[39mval_ds\n\u001b[1;32m      9\u001b[0m )\n\u001b[1;32m     10\u001b[0m view_train_chart(hist)\n",
      "\u001b[0;31mNameError\u001b[0m: name 'create_model__resnetv2' is not defined"
     ]
    }
   ],
   "source": [
    "# test run, with cpu\n",
    "\n",
    "# train_ds, val_ds, class_names, num_classes\n",
    "# with tensorflow.device(\"/CPU:0\"):\n",
    "def exec_train_ResNet151V2():\n",
    "    mod_name = \"ResNet151V2\"\n",
    "    resnet_mod = create_model__resnetv2(num_classes)\n",
    "    resnet_mod, hist = train_model(\n",
    "        resnet_mod, model_name=mod_name, train_ds=train_ds, val_ds=val_ds\n",
    "    )\n",
    "    view_train_chart(hist)\n",
    "    os.makedirs(\"./models/img_clsr\",exist_ok=True)\n",
    "    resnet_mod.save(f\"./models/img_clsr/{mod_name}.keras\")\n",
    "\n",
    "exec_train_ResNet151V2()"
   ]
  },
  {
   "cell_type": "code",
   "execution_count": null,
   "metadata": {},
   "outputs": [],
   "source": []
  },
  {
   "cell_type": "code",
   "execution_count": 3,
   "metadata": {},
   "outputs": [],
   "source": [
    "# train_ds, val_ds, class_names, num_classes\n",
    "# with tensorflow.device(\"/CPU:0\"):\n",
    "def exec_train_InceptionV3():\n",
    "    mod_name = \"InceptionV3\"\n",
    "    inception_mod = create_model__inception_v3(num_classes)\n",
    "    inception_mod, hist = train_model(\n",
    "        inception_mod, model_name=mod_name, train_ds=train_ds, val_ds=val_ds\n",
    "    )\n",
    "    view_train_chart(hist)\n",
    "    os.makedirs(\"./models/img_clsr\", exist_ok=True)\n",
    "    inception_mod.save(f\"./models/img_clsr/{mod_name}.keras\")\n",
    "\n",
    "exec_train_InceptionV3()"
   ]
  },
  {
   "cell_type": "code",
   "execution_count": null,
   "metadata": {},
   "outputs": [],
   "source": []
  },
  {
   "cell_type": "code",
   "execution_count": null,
   "metadata": {},
   "outputs": [],
   "source": []
  }
 ],
 "metadata": {
  "kernelspec": {
   "display_name": "Python 3",
   "language": "python",
   "name": "python3"
  },
  "language_info": {
   "codemirror_mode": {
    "name": "ipython",
    "version": 3
   },
   "file_extension": ".py",
   "mimetype": "text/x-python",
   "name": "python",
   "nbconvert_exporter": "python",
   "pygments_lexer": "ipython3",
   "version": "3.12.2"
  }
 },
 "nbformat": 4,
 "nbformat_minor": 2
}
