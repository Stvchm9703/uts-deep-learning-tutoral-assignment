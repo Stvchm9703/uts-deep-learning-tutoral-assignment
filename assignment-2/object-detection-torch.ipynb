{
 "cells": [
  {
   "cell_type": "code",
   "execution_count": null,
   "metadata": {},
   "outputs": [],
   "source": [
    "import os\n",
    "import io\n",
    "import pprint\n",
    "import numpy as np\n",
    "import matplotlib.pyplot as plt\n",
    "from PIL import Image\n",
    "from urllib.request import urlopen\n",
    "\n",
    "import torch\n",
    "import torch.nn as nn\n",
    "import torch.optim as optim\n",
    "import torch.nn.functional as F\n",
    "from torchvision import transforms, models"
   ]
  },
  {
   "cell_type": "code",
   "execution_count": null,
   "metadata": {},
   "outputs": [],
   "source": [
    "from PIL import Image\n",
    "\n",
    "with Image.open('./dataset/Object_Detection/coco/train/100002.jpg') as img :\n",
    "    pprint.pprint(img.size)"
   ]
  },
  {
   "cell_type": "code",
   "execution_count": null,
   "metadata": {},
   "outputs": [],
   "source": [
    "\n",
    "TRAIN_DATA_DIR='./dataset/Object_Detection/coco/train'\n",
    "TRAIN_ANNOTATION_FILE_DIR='./dataset/Object_Detection/coco/train/train_annotations.json'\n",
    "OUTPUT_TFRECORD_TRAIN='./dataset/Object_Detection/coco_tfrecords/train'\n"
   ]
  },
  {
   "cell_type": "code",
   "execution_count": null,
   "metadata": {},
   "outputs": [],
   "source": [
    "\n",
    "VALID_DATA_DIR='./dataset/Object_Detection/coco/valid'\n",
    "VALID_ANNOTATION_FILE_DIR='./dataset/Object_Detection/coco/valid/valid_annotations.json'\n",
    "OUTPUT_TFRECORD_VALID='./dataset/Object_Detection/coco_tfrecords/valid'\n"
   ]
  },
  {
   "cell_type": "code",
   "execution_count": null,
   "metadata": {},
   "outputs": [],
   "source": [
    "\n",
    "TEST_DATA_DIR='./dataset/Object_Detection/coco/test'\n",
    "TEST_ANNOTATION_FILE_DIR='./dataset/Object_Detection/coco/test/test_annotations.json'\n",
    "OUTPUT_TFRECORD_TEST='./dataset/Object_Detection/coco_tfrecords/test'\n"
   ]
  },
  {
   "cell_type": "code",
   "execution_count": null,
   "metadata": {},
   "outputs": [],
   "source": [
    "train_data_input_path = (\n",
    "    \"./dataset/Object_Detection/coco_tfrecords/train-00000-of-00001.tfrecord\"\n",
    ")\n",
    "valid_data_input_path = (\n",
    "    \"./dataset/Object_Detection/coco_tfrecords/valid-00000-of-00001.tfrecord\"\n",
    ")\n",
    "test_data_input_path = (\n",
    "    \"./dataset/Object_Detection/coco_tfrecords/test-00000-of-00001.tfrecord\"\n",
    ")\n",
    "model_dir = \"./trained_model/\"\n",
    "export_dir = \"./model/\"\n",
    "\n",
    "batch_size = 8\n",
    "num_classes = 5\n",
    "\n",
    "#\n",
    "HEIGHT, WIDTH = 528, 528\n",
    "IMG_SIZE = [HEIGHT, WIDTH, 3]\n"
   ]
  },
  {
   "cell_type": "code",
   "execution_count": null,
   "metadata": {},
   "outputs": [],
   "source": []
  }
 ],
 "metadata": {
  "kernelspec": {
   "display_name": "uts-dl",
   "language": "python",
   "name": "python3"
  },
  "language_info": {
   "codemirror_mode": {
    "name": "ipython",
    "version": 3
   },
   "file_extension": ".py",
   "mimetype": "text/x-python",
   "name": "python",
   "nbconvert_exporter": "python",
   "pygments_lexer": "ipython3",
   "version": "3.11.9"
  }
 },
 "nbformat": 4,
 "nbformat_minor": 2
}
