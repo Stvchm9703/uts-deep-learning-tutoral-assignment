{
 "cells": [
  {
   "cell_type": "markdown",
   "metadata": {},
   "source": [
    "# Assignment 1\n"
   ]
  },
  {
   "cell_type": "markdown",
   "metadata": {},
   "source": [
    "## Step 1 : data conversion\n"
   ]
  },
  {
   "cell_type": "code",
   "execution_count": 1,
   "metadata": {},
   "outputs": [],
   "source": [
    "import zipfile\n",
    "\n",
    "# from pprint import pprint\n",
    "\n",
    "\n",
    "def load_data():\n",
    "    # extract the zip file\n",
    "    with zipfile.ZipFile(\"dataset_42028assg1_24581896.zip\", \"r\") as file:\n",
    "        # extract the file\n",
    "        file.extractall(\"dataset\")\n",
    "\n",
    "    pass\n",
    "\n",
    "\n",
    "load_data()"
   ]
  },
  {
   "cell_type": "code",
   "execution_count": 1,
   "metadata": {},
   "outputs": [
    {
     "name": "stdout",
     "output_type": "stream",
     "text": [
      "5000\n",
      "  label  label_id                filename  \\\n",
      "0     ]         0   dataset/]/exp5082.jpg   \n",
      "1     ]         0   dataset/]/]_88548.jpg   \n",
      "2     ]         0  dataset/]/exp81869.jpg   \n",
      "3     ]         0   dataset/]/exp6417.jpg   \n",
      "4     ]         0   dataset/]/]_78652.jpg   \n",
      "\n",
      "                                                data  \n",
      "0  [[255, 255, 255, 255, 255, 255, 255, 255, 255,...  \n",
      "1  [[255, 255, 255, 255, 255, 255, 255, 255, 255,...  \n",
      "2  [[255, 255, 255, 255, 255, 255, 255, 255, 255,...  \n",
      "3  [[255, 255, 255, 255, 255, 255, 255, 255, 255,...  \n",
      "4  [[255, 255, 255, 255, 255, 255, 255, 255, 255,...  \n",
      "[']', '[', 'geq', '+', 'alpha', 'neq', 'tan', '(', 'div', 'cos']\n"
     ]
    }
   ],
   "source": [
    "import pandas as pd\n",
    "import numpy as np\n",
    "import os\n",
    "# import tensorflow as tf\n",
    "import glob\n",
    "import cv2\n",
    "\n",
    "# import tensorflow\n",
    "\n",
    "# data struct\n",
    "# {\n",
    "#     id: int,\n",
    "#     label: str,\n",
    "#     data: np.array\n",
    "# }\n",
    "\n",
    "\n",
    "# load the data into a pandas dataframe\n",
    "def load_data():\n",
    "    # load the data and file name as dataframe\n",
    "    data_list = []\n",
    "    labels = [x for x in os.listdir(\"dataset\")]\n",
    "\n",
    "    for label in labels:\n",
    "        for file in glob.glob(f\"dataset/{label}/*.jpg\"):\n",
    "            file_data= cv2.imread(file, cv2.IMREAD_GRAYSCALE)\n",
    "            file_data= cv2.resize(file_data, (96, 96), interpolation=cv2.INTER_LINEAR)\n",
    "            # read imge as numpy array\n",
    "            data_list.append(\n",
    "                {\n",
    "                    \"label\": label,\n",
    "                    \"label_id\": labels.index(label),\n",
    "                    \"filename\": file,\n",
    "                    \"data\":file_data\n",
    "                }\n",
    "            )\n",
    "    print(len(data_list))\n",
    "    return pd.DataFrame(data_list), labels\n",
    "\n",
    "\n",
    "data_df, labels = load_data()\n",
    "\n",
    "print(data_df.head(5))\n",
    "print(labels)"
   ]
  },
  {
   "cell_type": "code",
   "execution_count": 9,
   "metadata": {},
   "outputs": [
    {
     "name": "stdout",
     "output_type": "stream",
     "text": [
      "2.16.1\n",
      "[]\n",
      "[]\n"
     ]
    }
   ],
   "source": [
    "import tensorflow\n",
    "print(tensorflow.__version__)\n",
    "print(tensorflow.config.list_logical_devices(device_type=\"cuda\"))\n",
    "\n",
    "print(tensorflow.config.list_physical_devices('GPU'))"
   ]
  },
  {
   "cell_type": "code",
   "execution_count": 4,
   "metadata": {},
   "outputs": [],
   "source": [
    "import matplotlib.pyplot as plt\n",
    "\n",
    "def show_image(input_image):\n",
    "  plt.imshow(input_image, cmap='gray')  # Make sure that the plot is drawn in grayscale\n",
    "  plt.axis('off')\n",
    "  plt.title(\"Input Image\")\n",
    "  plt.show()"
   ]
  },
  {
   "cell_type": "code",
   "execution_count": 2,
   "metadata": {},
   "outputs": [],
   "source": [
    "import pandas as pd\n",
    "# import pickle\n",
    "from sklearn.model_selection import train_test_split\n",
    "\n",
    "\n",
    "## snapshot the data\n",
    "def snapshot_data(data: pd.DataFrame, labels: list):\n",
    "    # snapshot the data\n",
    "    # store the data as a  file\n",
    "    data.to_pickle('./raw_data.pkl')\n",
    "    with open(\"labels.txt\", \"w\") as file:\n",
    "        file.write(\"\\n\".join(labels))\n",
    "\n",
    "    return\n",
    "\n",
    "\n",
    "def shuffle_data(data_df: pd.DataFrame):\n",
    "    clone_df_X = data_df.copy()\n",
    "    clone_df_y = data_df.copy()\n",
    "    # shuffle the data\n",
    "    clone_df_X = clone_df_X.drop(columns=[\"filename\", \"label\", \"label_id\"])\n",
    "    clone_df_y = clone_df_y.drop(columns=[\"filename\", \"data\", \"label\"])\n",
    "    return train_test_split(\n",
    "        clone_df_X, clone_df_y, test_size=0.3, random_state=24581896\n",
    "    )\n",
    "\n",
    "\n",
    "# snapshot the data\n",
    "snapshot_data(data_df, labels)\n",
    "\n",
    "\n",
    "# usage; for later use\n",
    "\n",
    "#  do the snapshot for the shuffled data \n",
    "# X_train.to_pickle(\"X_train.pkl\")\n",
    "# X_test.to_pickle(\"X_test.pkl\")\n",
    "# y_train.to_pickle(\"y_train.pkl\")\n",
    "# y_test.to_pickle(\"y_test.pkl\")\n",
    "\n",
    "\n"
   ]
  },
  {
   "cell_type": "code",
   "execution_count": 6,
   "metadata": {},
   "outputs": [
    {
     "name": "stdout",
     "output_type": "stream",
     "text": [
      "                                                   data\n",
      "4306  [[255, 255, 255, 255, 255, 255, 255, 255, 255,...\n",
      "1617  [[255, 255, 255, 255, 255, 255, 255, 255, 255,...\n",
      "3925  [[255, 255, 255, 255, 255, 255, 255, 255, 255,...\n",
      "971   [[255, 255, 255, 255, 255, 255, 255, 255, 255,...\n",
      "3544  [[255, 255, 255, 255, 255, 255, 255, 255, 255,...\n",
      "      label_id\n",
      "4306         8\n",
      "1617         3\n",
      "3925         7\n",
      "971          1\n",
      "3544         7\n"
     ]
    }
   ],
   "source": [
    "X_train, X_test, y_train, y_test = shuffle_data(data_df)\n",
    "print(X_train.head(5))\n",
    "print(y_train.head(5))"
   ]
  },
  {
   "cell_type": "code",
   "execution_count": 7,
   "metadata": {},
   "outputs": [],
   "source": [
    "# import pandas as pd\n",
    "# # data recovery\n",
    "# data_df = pd.read_pickle(\"raw_data.pkl\")\n",
    "# labels = open(\"labels.txt\", \"r\").read().split(\"\\n\")"
   ]
  },
  {
   "cell_type": "code",
   "execution_count": null,
   "metadata": {},
   "outputs": [],
   "source": [
    "import pandas as pd\n",
    "# data recovery\n",
    "X_train_raw = pd.read_pickle(\"X_train.pkl\")\n",
    "X_test_raw = pd.read_pickle(\"X_test.pkl\")\n",
    "y_train_raw = pd.read_pickle(\"y_train.pkl\")\n",
    "y_test_raw = pd.read_pickle(\"y_test.pkl\")\n",
    "\n",
    "labels = open(\"labels.txt\", \"r\").read().split(\"\\n\")"
   ]
  },
  {
   "cell_type": "markdown",
   "metadata": {},
   "source": [
    "# Step 2 : Data Preprocessing for SVM\n",
    "\n",
    "since the dataset is not enstrenght, we need to preprocess the data to make it suitable for training the model.\n",
    "\n",
    "1. create a HoG feature setting for setting managing.\n",
    "2. apply the HoG feature extraction to the images.\n",
    "3. create a SVM model \n",
    "4. train classifier by SVM multiclass classifier\n"
   ]
  },
  {
   "cell_type": "code",
   "execution_count": 6,
   "metadata": {},
   "outputs": [
    {
     "data": {
      "image/png": "[encoded data removed]",
      "text/plain": [
       "<Figure size 640x480 with 1 Axes>"
      ]
     },
     "metadata": {},
     "output_type": "display_data"
    },
    {
     "data": {
      "text/plain": [
       "(96, 96)"
      ]
     },
     "execution_count": 6,
     "metadata": {},
     "output_type": "execute_result"
    }
   ],
   "source": [
    "show_image(data_df['data'][2])\n",
    "data_df['data'][1].shape\n"
   ]
  },
  {
   "cell_type": "code",
   "execution_count": 3,
   "metadata": {},
   "outputs": [],
   "source": [
    "\n",
    "import cv2\n",
    "\n",
    "class HoGSetting:\n",
    "    cell_size: tuple = (2,2)\n",
    "    block_size: tuple = (4,4)\n",
    "    win_size: tuple = (8,8)\n",
    "    nbins: int = 9\n",
    "    hog_descriptor: cv2.HOGDescriptor\n",
    "\n",
    "    def __init__(self, **kwarg):\n",
    "        # initialize\n",
    "        self.cell_size = kwarg.get('cell_size', self.cell_size)\n",
    "        self.block_size = kwarg.get('block_size', self.block_size)\n",
    "        self.win_size = kwarg.get('win_size', self.win_size)\n",
    "        self.nbins = kwarg.get('nbins', self.nbins)\n",
    "        \n",
    "        # create a HOG object\n",
    "        self.hog_descriptor = cv2.HOGDescriptor(\n",
    "            _winSize=(self.win_size[1] * self.cell_size[1],\n",
    "                    self.win_size[0] * self.cell_size[0]),\n",
    "            _blockSize=(self.block_size[1] * self.cell_size[1],\n",
    "                        self.block_size[0] * self.cell_size[0]),\n",
    "            _blockStride=(self.cell_size[1], self.cell_size[0]),\n",
    "            _cellSize=(self.cell_size[1], self.cell_size[0]),\n",
    "            _nbins=self.nbins,\n",
    "            _histogramNormType = cv2.HOGDescriptor_L2Hys\n",
    "        )\n",
    "        self.hog_descriptor.save('hog_feat.xml')\n",
    "        \n",
    "\n",
    "    # compile\n",
    "    def compile_feat(self, img):\n",
    "        img_size = img.shape[:2]  # h x w in pixels\n",
    "        n_cells = (img_size[0] // self.cell_size[0], img_size[1] // self.cell_size[1])\n",
    "        # find features as a 1xN vector, then reshape into spatial hierarchy\n",
    "\n",
    "        hog_feats = self.hog_descriptor.compute(img)\n",
    "\n",
    "        hog_feats = hog_feats.reshape(\n",
    "            n_cells[1] - self.win_size[1] + 1,\n",
    "            n_cells[0] - self.win_size[0] + 1,\n",
    "            self.win_size[1] - self.block_size[1] + 1,\n",
    "            self.win_size[0] - self.block_size[0] + 1,\n",
    "            self.block_size[1],\n",
    "            self.block_size[0],\n",
    "            self.nbins)\n",
    "\n",
    "        return hog_feats\n",
    "    pass \n",
    "\n",
    "\n",
    "hog_setting = HoGSetting()\n",
    "\n",
    "### usage; for later use \n",
    "\n",
    "# _hog_feat = hog_setting.compile_feat(img)\n",
    "# print(_hog_feat)  \n",
    "  \n"
   ]
  },
  {
   "cell_type": "code",
   "execution_count": null,
   "metadata": {},
   "outputs": [],
   "source": []
  },
  {
   "cell_type": "code",
   "execution_count": 7,
   "metadata": {},
   "outputs": [
    {
     "ename": "",
     "evalue": "",
     "output_type": "error",
     "traceback": [
      "\u001b[1;31mThe Kernel crashed while executing code in the current cell or a previous cell. \n",
      "\u001b[1;31mPlease review the code in the cell(s) to identify a possible cause of the failure. \n",
      "\u001b[1;31mClick <a href='https://aka.ms/vscodeJupyterKernelCrash'>here</a> for more info. \n",
      "\u001b[1;31mView Jupyter <a href='command:jupyter.viewOutput'>log</a> for further details."
     ]
    }
   ],
   "source": [
    "# since using the raw data frame is too large for svm process \n",
    "# here to split the X_train and X_test to apply the HoG Compile\n",
    "\n",
    "X_train_svm = X_train.copy()\n",
    "X_test_svm = X_test.copy()\n",
    "\n",
    "X_train_svm['data'] = X_train_svm['data'].apply(hog_setting.compile_feat)\n",
    "X_train_svm.to_pickle('./snapshot_x_train_svm.pkl')\n",
    "print('x_train done apply')\n",
    "X_test_svm['data'] = X_test_svm['data'].apply(hog_setting.compile_feat)\n",
    "X_test_svm.to_pickle('./snapshot_x_train_svm.pkl')\n",
    "print('x_test done apply')\n",
    "\n"
   ]
  },
  {
   "cell_type": "markdown",
   "metadata": {},
   "source": [
    "## 2.2 create the SVM model"
   ]
  },
  {
   "cell_type": "code",
   "execution_count": null,
   "metadata": {},
   "outputs": [],
   "source": [
    "from sklearn import svm\n",
    "\n",
    "model = svm.SVC(kernel='rbf',C=100.0, random_state=24581896) # rbf Kernel\n",
    "model.fit(data_train, labels_train)"
   ]
  }
 ],
 "metadata": {
  "kernelspec": {
   "display_name": "Python 3",
   "language": "python",
   "name": "python3"
  },
  "language_info": {
   "codemirror_mode": {
    "name": "ipython",
    "version": 3
   },
   "file_extension": ".py",
   "mimetype": "text/x-python",
   "name": "python",
   "nbconvert_exporter": "python",
   "pygments_lexer": "ipython3",
   "version": "3.12.2"
  }
 },
 "nbformat": 4,
 "nbformat_minor": 2
}
