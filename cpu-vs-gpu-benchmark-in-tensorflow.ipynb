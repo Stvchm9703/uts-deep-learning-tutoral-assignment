{
 "cells": [
  {
   "cell_type": "markdown",
   "id": "e9989ddd",
   "metadata": {
    "papermill": {
     "duration": 0.017962,
     "end_time": "2021-08-13T14:15:27.836381",
     "exception": false,
     "start_time": "2021-08-13T14:15:27.818419",
     "status": "completed"
    },
    "tags": []
   },
   "source": [
    "# Hi Guys today we will see what is the 😍 advantage of using GPU's for DEEP LEARNING"
   ]
  },
  {
   "cell_type": "code",
   "execution_count": 1,
   "id": "9c7f6b78",
   "metadata": {
    "execution": {
     "iopub.execute_input": "2021-08-13T14:15:27.881147Z",
     "iopub.status.busy": "2021-08-13T14:15:27.880627Z",
     "iopub.status.idle": "2021-08-13T14:15:32.186348Z",
     "shell.execute_reply": "2021-08-13T14:15:32.185630Z"
    },
    "papermill": {
     "duration": 4.333204,
     "end_time": "2021-08-13T14:15:32.186534",
     "exception": false,
     "start_time": "2021-08-13T14:15:27.853330",
     "status": "completed"
    },
    "tags": []
   },
   "outputs": [
    {
     "name": "stdout",
     "output_type": "stream",
     "text": [
      "2.4.1\n"
     ]
    }
   ],
   "source": [
    "import tensorflow as tf\n",
    "from tensorflow import keras\n",
    "print(tf.__version__)"
   ]
  },
  {
   "cell_type": "code",
   "execution_count": 2,
   "id": "03daa6ef",
   "metadata": {
    "ExecuteTime": {
     "end_time": "2021-08-12T04:00:32.755448Z",
     "start_time": "2021-08-12T04:00:32.694760Z"
    },
    "execution": {
     "iopub.execute_input": "2021-08-13T14:15:32.372085Z",
     "iopub.status.busy": "2021-08-13T14:15:32.368394Z",
     "iopub.status.idle": "2021-08-13T14:15:32.377388Z",
     "shell.execute_reply": "2021-08-13T14:15:32.377750Z",
     "shell.execute_reply.started": "2021-08-13T13:53:54.348267Z"
    },
    "papermill": {
     "duration": 0.173185,
     "end_time": "2021-08-13T14:15:32.377913",
     "exception": false,
     "start_time": "2021-08-13T14:15:32.204728",
     "status": "completed"
    },
    "tags": []
   },
   "outputs": [
    {
     "data": {
      "text/plain": [
       "[PhysicalDevice(name='/physical_device:CPU:0', device_type='CPU'),\n",
       " PhysicalDevice(name='/physical_device:GPU:0', device_type='GPU')]"
      ]
     },
     "execution_count": 2,
     "metadata": {},
     "output_type": "execute_result"
    }
   ],
   "source": [
    "tf.config.experimental.list_physical_devices(device_type=None)"
   ]
  },
  {
   "cell_type": "markdown",
   "id": "229594e0",
   "metadata": {
    "papermill": {
     "duration": 0.017569,
     "end_time": "2021-08-13T14:15:32.413760",
     "exception": false,
     "start_time": "2021-08-13T14:15:32.396191",
     "status": "completed"
    },
    "tags": []
   },
   "source": [
    "#  Check the GPU stats"
   ]
  },
  {
   "cell_type": "markdown",
   "id": "2d6d7639",
   "metadata": {
    "papermill": {
     "duration": 0.017351,
     "end_time": "2021-08-13T14:15:32.448676",
     "exception": false,
     "start_time": "2021-08-13T14:15:32.431325",
     "status": "completed"
    },
    "tags": []
   },
   "source": [
    "## 🔥 If using this in kaggle notebook, don't forget to connect to GPU Accelerator 🌌"
   ]
  },
  {
   "cell_type": "code",
   "execution_count": 3,
   "id": "f7974539",
   "metadata": {
    "execution": {
     "iopub.execute_input": "2021-08-13T14:15:32.487603Z",
     "iopub.status.busy": "2021-08-13T14:15:32.487115Z",
     "iopub.status.idle": "2021-08-13T14:15:33.149151Z",
     "shell.execute_reply": "2021-08-13T14:15:33.148149Z",
     "shell.execute_reply.started": "2021-08-13T13:53:54.363263Z"
    },
    "papermill": {
     "duration": 0.683087,
     "end_time": "2021-08-13T14:15:33.149289",
     "exception": false,
     "start_time": "2021-08-13T14:15:32.466202",
     "status": "completed"
    },
    "tags": []
   },
   "outputs": [
    {
     "name": "stdout",
     "output_type": "stream",
     "text": [
      "Fri Aug 13 14:15:33 2021       \r\n",
      "+-----------------------------------------------------------------------------+\r\n",
      "| NVIDIA-SMI 450.119.04   Driver Version: 450.119.04   CUDA Version: 11.0     |\r\n",
      "|-------------------------------+----------------------+----------------------+\r\n",
      "| GPU  Name        Persistence-M| Bus-Id        Disp.A | Volatile Uncorr. ECC |\r\n",
      "| Fan  Temp  Perf  Pwr:Usage/Cap|         Memory-Usage | GPU-Util  Compute M. |\r\n",
      "|                               |                      |               MIG M. |\r\n",
      "|===============================+======================+======================|\r\n",
      "|   0  Tesla P100-PCIE...  Off  | 00000000:00:04.0 Off |                    0 |\r\n",
      "| N/A   38C    P0    27W / 250W |      2MiB / 16280MiB |      0%      Default |\r\n",
      "|                               |                      |                  N/A |\r\n",
      "+-------------------------------+----------------------+----------------------+\r\n",
      "                                                                               \r\n",
      "+-----------------------------------------------------------------------------+\r\n",
      "| Processes:                                                                  |\r\n",
      "|  GPU   GI   CI        PID   Type   Process name                  GPU Memory |\r\n",
      "|        ID   ID                                                   Usage      |\r\n",
      "|=============================================================================|\r\n",
      "|  No running processes found                                                 |\r\n",
      "+-----------------------------------------------------------------------------+\r\n"
     ]
    }
   ],
   "source": [
    "!nvidia-smi"
   ]
  },
  {
   "cell_type": "markdown",
   "id": "c2d34f80",
   "metadata": {
    "papermill": {
     "duration": 0.018372,
     "end_time": "2021-08-13T14:15:33.186411",
     "exception": false,
     "start_time": "2021-08-13T14:15:33.168039",
     "status": "completed"
    },
    "tags": []
   },
   "source": [
    "The output of the below cell should be \n",
    "**1 Physical GPUs, 1 Logical GPUs**"
   ]
  },
  {
   "cell_type": "code",
   "execution_count": 4,
   "id": "3572e576",
   "metadata": {
    "ExecuteTime": {
     "end_time": "2021-08-12T04:00:33.131826Z",
     "start_time": "2021-08-12T04:00:32.756412Z"
    },
    "execution": {
     "iopub.execute_input": "2021-08-13T14:15:34.732235Z",
     "iopub.status.busy": "2021-08-13T14:15:34.731528Z",
     "iopub.status.idle": "2021-08-13T14:15:34.737232Z",
     "shell.execute_reply": "2021-08-13T14:15:34.736495Z",
     "shell.execute_reply.started": "2021-08-13T13:53:55.123791Z"
    },
    "papermill": {
     "duration": 1.532285,
     "end_time": "2021-08-13T14:15:34.737358",
     "exception": false,
     "start_time": "2021-08-13T14:15:33.205073",
     "status": "completed"
    },
    "tags": []
   },
   "outputs": [
    {
     "name": "stdout",
     "output_type": "stream",
     "text": [
      "1 Physical GPUs, 1 Logical GPUs\n"
     ]
    }
   ],
   "source": [
    "gpus = tf.config.experimental.list_physical_devices('GPU')\n",
    "if gpus:\n",
    "  try:\n",
    "    # Currently, memory growth needs to be the same across GPUs\n",
    "    for gpu in gpus:\n",
    "      tf.config.experimental.set_memory_growth(gpu, True)\n",
    "    logical_gpus = tf.config.experimental.list_logical_devices('GPU')\n",
    "    print(len(gpus), \"Physical GPUs,\", len(logical_gpus), \"Logical GPUs\")\n",
    "  except RuntimeError as e:\n",
    "    # Memory growth must be set before GPUs have been initialized\n",
    "    print(e)"
   ]
  },
  {
   "cell_type": "code",
   "execution_count": 5,
   "id": "4f6bd25e",
   "metadata": {
    "ExecuteTime": {
     "end_time": "2021-08-12T04:00:33.147072Z",
     "start_time": "2021-08-12T04:00:33.132826Z"
    },
    "execution": {
     "iopub.execute_input": "2021-08-13T14:15:34.780994Z",
     "iopub.status.busy": "2021-08-13T14:15:34.779741Z",
     "iopub.status.idle": "2021-08-13T14:15:34.783102Z",
     "shell.execute_reply": "2021-08-13T14:15:34.783666Z",
     "shell.execute_reply.started": "2021-08-13T13:53:55.138058Z"
    },
    "papermill": {
     "duration": 0.027777,
     "end_time": "2021-08-13T14:15:34.783832",
     "exception": false,
     "start_time": "2021-08-13T14:15:34.756055",
     "status": "completed"
    },
    "tags": []
   },
   "outputs": [
    {
     "name": "stdout",
     "output_type": "stream",
     "text": [
      "1 Physical GPUs, 1 Logical GPU\n"
     ]
    }
   ],
   "source": [
    "gpus = tf.config.experimental.list_physical_devices('GPU')\n",
    "if gpus:\n",
    "  # Restrict TensorFlow to only use the first GPU\n",
    "  try:\n",
    "    tf.config.experimental.set_visible_devices(gpus[0], 'GPU')\n",
    "    logical_gpus = tf.config.experimental.list_logical_devices('GPU')\n",
    "    print(len(gpus), \"Physical GPUs,\", len(logical_gpus), \"Logical GPU\")\n",
    "  except RuntimeError as e:\n",
    "    # Visible devices must be set before GPUs have been initialized\n",
    "    print(e)"
   ]
  },
  {
   "cell_type": "code",
   "execution_count": 6,
   "id": "f4d34e11",
   "metadata": {
    "ExecuteTime": {
     "end_time": "2021-08-12T04:00:33.380682Z",
     "start_time": "2021-08-12T04:00:33.148072Z"
    },
    "execution": {
     "iopub.execute_input": "2021-08-13T14:15:34.826615Z",
     "iopub.status.busy": "2021-08-13T14:15:34.826129Z",
     "iopub.status.idle": "2021-08-13T14:15:34.829792Z",
     "shell.execute_reply": "2021-08-13T14:15:34.829395Z",
     "shell.execute_reply.started": "2021-08-13T13:53:55.151190Z"
    },
    "papermill": {
     "duration": 0.026776,
     "end_time": "2021-08-13T14:15:34.829911",
     "exception": false,
     "start_time": "2021-08-13T14:15:34.803135",
     "status": "completed"
    },
    "tags": []
   },
   "outputs": [],
   "source": [
    "import numpy as np                                \n",
    "import matplotlib.pyplot as plt\n",
    "import tensorflow.keras as k\n",
    "# from tensorflow.examples.tutorials.mnist import input_data\n",
    "from tensorflow.keras.datasets import mnist\n",
    "from tensorflow.keras.models import Sequential\n",
    "from tensorflow.keras.layers import Dense, Dropout, Flatten\n",
    "from tensorflow.keras.layers import Conv2D, MaxPooling2D, BatchNormalization\n",
    "from tensorflow.keras.optimizers import SGD, Adam\n",
    "from tensorflow.keras.models import load_model\n",
    "from tensorflow.keras.utils import to_categorical\n",
    "from tensorflow.keras import backend as K\n",
    "import time"
   ]
  },
  {
   "cell_type": "code",
   "execution_count": 7,
   "id": "b3fd86a5",
   "metadata": {
    "ExecuteTime": {
     "end_time": "2021-08-12T04:00:33.894423Z",
     "start_time": "2021-08-12T04:00:33.381681Z"
    },
    "execution": {
     "iopub.execute_input": "2021-08-13T14:15:34.874207Z",
     "iopub.status.busy": "2021-08-13T14:15:34.872342Z",
     "iopub.status.idle": "2021-08-13T14:15:35.706452Z",
     "shell.execute_reply": "2021-08-13T14:15:35.705651Z",
     "shell.execute_reply.started": "2021-08-13T13:53:55.163937Z"
    },
    "papermill": {
     "duration": 0.858338,
     "end_time": "2021-08-13T14:15:35.706630",
     "exception": false,
     "start_time": "2021-08-13T14:15:34.848292",
     "status": "completed"
    },
    "tags": []
   },
   "outputs": [
    {
     "name": "stdout",
     "output_type": "stream",
     "text": [
      "Downloading data from https://storage.googleapis.com/tensorflow/tf-keras-datasets/mnist.npz\n",
      "11493376/11490434 [==============================] - 0s 0us/step\n",
      "counts of x_train : 60000, y_train : 60000, x_test : 10000, y_test : 10000\n"
     ]
    }
   ],
   "source": [
    "(x_train, y_train), (x_test, y_test) = mnist.load_data()\n",
    "img_rows, img_cols = 28,28\n",
    "x_train = x_train.reshape(x_train.shape[0], img_rows, img_cols, 1)\n",
    "x_test = x_test.reshape(x_test.shape[0], img_rows, img_cols, 1)\n",
    "input_shape = (img_rows, img_cols, 1)\n",
    "x_test=x_test.astype('float32')\n",
    "x_train=x_train.astype('float32')\n",
    "mean=np.mean(x_train)\n",
    "std=np.std(x_train)\n",
    "x_test = (x_test-mean)/std\n",
    "x_train = (x_train-mean)/std\n",
    "\n",
    "print(\"counts of x_train : {}, y_train : {}, x_test : {}, y_test : {}\".format(\n",
    "    len(x_train), len(y_train), len(x_test), len(y_test)))"
   ]
  },
  {
   "cell_type": "code",
   "execution_count": 8,
   "id": "0f09f46b",
   "metadata": {
    "ExecuteTime": {
     "end_time": "2021-08-12T04:00:33.909848Z",
     "start_time": "2021-08-12T04:00:33.895843Z"
    },
    "execution": {
     "iopub.execute_input": "2021-08-13T14:15:35.753069Z",
     "iopub.status.busy": "2021-08-13T14:15:35.751182Z",
     "iopub.status.idle": "2021-08-13T14:15:35.757102Z",
     "shell.execute_reply": "2021-08-13T14:15:35.756487Z",
     "shell.execute_reply.started": "2021-08-13T13:53:55.750052Z"
    },
    "papermill": {
     "duration": 0.030012,
     "end_time": "2021-08-13T14:15:35.757238",
     "exception": false,
     "start_time": "2021-08-13T14:15:35.727226",
     "status": "completed"
    },
    "tags": []
   },
   "outputs": [
    {
     "name": "stdout",
     "output_type": "stream",
     "text": [
      "counts of x_train : 60000, y_train : 60000, x_test : 10000, y_test : 10000\n"
     ]
    }
   ],
   "source": [
    "num_classes=10\n",
    "y_train = to_categorical(y_train, num_classes)\n",
    "y_test = to_categorical(y_test, num_classes)\n",
    "print(\"counts of x_train : {}, y_train : {}, x_test : {}, y_test : {}\".format(\n",
    "    len(x_train), len(y_train), len(x_test), len(y_test)))"
   ]
  },
  {
   "cell_type": "code",
   "execution_count": 9,
   "id": "473a23bd",
   "metadata": {
    "ExecuteTime": {
     "end_time": "2021-08-12T04:00:33.925801Z",
     "start_time": "2021-08-12T04:00:33.910848Z"
    },
    "execution": {
     "iopub.execute_input": "2021-08-13T14:15:35.801179Z",
     "iopub.status.busy": "2021-08-13T14:15:35.800550Z",
     "iopub.status.idle": "2021-08-13T14:15:35.806293Z",
     "shell.execute_reply": "2021-08-13T14:15:35.805798Z",
     "shell.execute_reply.started": "2021-08-13T13:53:55.761447Z"
    },
    "papermill": {
     "duration": 0.028773,
     "end_time": "2021-08-13T14:15:35.806403",
     "exception": false,
     "start_time": "2021-08-13T14:15:35.777630",
     "status": "completed"
    },
    "tags": []
   },
   "outputs": [],
   "source": [
    "optimizer = tf.keras.optimizers.SGD()"
   ]
  },
  {
   "cell_type": "markdown",
   "id": "269ddfc6",
   "metadata": {
    "papermill": {
     "duration": 0.019973,
     "end_time": "2021-08-13T14:15:35.846208",
     "exception": false,
     "start_time": "2021-08-13T14:15:35.826235",
     "status": "completed"
    },
    "tags": []
   },
   "source": [
    "# CPU ONLY"
   ]
  },
  {
   "cell_type": "code",
   "execution_count": 10,
   "id": "5f2b067d",
   "metadata": {
    "ExecuteTime": {
     "end_time": "2021-08-12T04:00:34.017699Z",
     "start_time": "2021-08-12T04:00:33.926801Z"
    },
    "execution": {
     "iopub.execute_input": "2021-08-13T14:15:35.895744Z",
     "iopub.status.busy": "2021-08-13T14:15:35.895246Z",
     "iopub.status.idle": "2021-08-13T14:15:36.066830Z",
     "shell.execute_reply": "2021-08-13T14:15:36.066050Z",
     "shell.execute_reply.started": "2021-08-13T14:10:47.045697Z"
    },
    "papermill": {
     "duration": 0.200607,
     "end_time": "2021-08-13T14:15:36.066972",
     "exception": false,
     "start_time": "2021-08-13T14:15:35.866365",
     "status": "completed"
    },
    "tags": []
   },
   "outputs": [],
   "source": [
    "# don't change anything\n",
    "num_filter=32\n",
    "num_dense=512\n",
    "drop_dense=0.7\n",
    "ac='relu'\n",
    "learningrate=0.001\n",
    "\n",
    "with tf.device(\"/cpu:0\"):\n",
    "    model = Sequential()\n",
    "\n",
    "    model.add(Conv2D(num_filter, (3, 3), activation=ac, input_shape=(28, 28, 1),padding='same'))\n",
    "    model.add(BatchNormalization(axis=-1))\n",
    "    model.add(Conv2D(num_filter, (3, 3), activation=ac,padding='same'))\n",
    "    model.add(BatchNormalization(axis=-1))\n",
    "    model.add(MaxPooling2D(pool_size=(2, 2)))   # reduces to 14x14x32\n",
    "\n",
    "    model.add(Conv2D(2*num_filter, (3, 3), activation=ac,padding='same'))\n",
    "    model.add(BatchNormalization(axis=-1))\n",
    "    model.add(Conv2D(2*num_filter, (3, 3), activation=ac,padding='same'))\n",
    "    model.add(BatchNormalization(axis=-1))\n",
    "    model.add(MaxPooling2D(pool_size=(2, 2)))   # reduces to 7x7x64 = 3136 neurons\n",
    "\n",
    "    model.add(Flatten())                        \n",
    "    model.add(Dense(num_dense, activation=ac))\n",
    "    model.add(BatchNormalization())\n",
    "    model.add(Dropout(drop_dense))\n",
    "    model.add(Dense(10, activation='softmax'))\n",
    "    model.compile(loss='categorical_crossentropy', metrics=['accuracy'],optimizer=optimizer)"
   ]
  },
  {
   "cell_type": "code",
   "execution_count": 11,
   "id": "fde8223c",
   "metadata": {
    "ExecuteTime": {
     "end_time": "2021-08-12T04:12:20.855285Z",
     "start_time": "2021-08-12T04:00:34.018700Z"
    },
    "execution": {
     "iopub.execute_input": "2021-08-13T14:15:36.112782Z",
     "iopub.status.busy": "2021-08-13T14:15:36.112280Z",
     "iopub.status.idle": "2021-08-13T14:43:43.285970Z",
     "shell.execute_reply": "2021-08-13T14:43:43.285505Z",
     "shell.execute_reply.started": "2021-08-13T13:53:55.912728Z"
    },
    "papermill": {
     "duration": 1687.199034,
     "end_time": "2021-08-13T14:43:43.286105",
     "exception": false,
     "start_time": "2021-08-13T14:15:36.087071",
     "status": "completed"
    },
    "tags": []
   },
   "outputs": [
    {
     "name": "stdout",
     "output_type": "stream",
     "text": [
      "batch size 8\n",
      "7500/7500 [==============================] - 281s 37ms/step - loss: 0.3777 - accuracy: 0.8872 - val_loss: 0.0326 - val_accuracy: 0.9883\n",
      "batch size 16\n",
      "3750/3750 [==============================] - 252s 67ms/step - loss: 0.0704 - accuracy: 0.9787 - val_loss: 0.0267 - val_accuracy: 0.9905\n",
      "batch size 32\n",
      "1875/1875 [==============================] - 235s 125ms/step - loss: 0.0422 - accuracy: 0.9869 - val_loss: 0.0205 - val_accuracy: 0.9925\n",
      "batch size 64\n",
      "938/938 [==============================] - 235s 251ms/step - loss: 0.0324 - accuracy: 0.9900 - val_loss: 0.0192 - val_accuracy: 0.9928\n",
      "batch size 128\n",
      "469/469 [==============================] - 223s 476ms/step - loss: 0.0291 - accuracy: 0.9911 - val_loss: 0.0188 - val_accuracy: 0.9929\n",
      "batch size 256\n",
      "235/235 [==============================] - 220s 937ms/step - loss: 0.0269 - accuracy: 0.9916 - val_loss: 0.0186 - val_accuracy: 0.9934\n",
      "batch size 512\n",
      "118/118 [==============================] - 239s 2s/step - loss: 0.0253 - accuracy: 0.9922 - val_loss: 0.0186 - val_accuracy: 0.9935\n"
     ]
    }
   ],
   "source": [
    "cpu_list=[]\n",
    "batch_sizes = []\n",
    "with tf.device(\"/cpu:0\"):\n",
    "    for i in range(0,7):\n",
    "        k=8*2**i\n",
    "        print(\"batch size \"+str(k))\n",
    "        t1 = time.time()\n",
    "        model.fit(x_train, y_train, batch_size=k, epochs=1, validation_data=(x_test, y_test))\n",
    "        t2 = time.time()\n",
    "        cpu_list.append(int(t2-t1))\n",
    "        batch_sizes.append(k)"
   ]
  },
  {
   "cell_type": "code",
   "execution_count": 12,
   "id": "8c823ef1",
   "metadata": {
    "ExecuteTime": {
     "end_time": "2021-08-12T04:12:20.871288Z",
     "start_time": "2021-08-12T04:12:20.857286Z"
    },
    "execution": {
     "iopub.execute_input": "2021-08-13T14:43:49.446640Z",
     "iopub.status.busy": "2021-08-13T14:43:49.445899Z",
     "iopub.status.idle": "2021-08-13T14:43:49.448590Z",
     "shell.execute_reply": "2021-08-13T14:43:49.449032Z"
    },
    "papermill": {
     "duration": 2.934145,
     "end_time": "2021-08-13T14:43:49.449171",
     "exception": false,
     "start_time": "2021-08-13T14:43:46.515026",
     "status": "completed"
    },
    "tags": []
   },
   "outputs": [
    {
     "name": "stdout",
     "output_type": "stream",
     "text": [
      "[281, 252, 235, 235, 223, 220, 239]\n"
     ]
    }
   ],
   "source": [
    "print(cpu_list)"
   ]
  },
  {
   "cell_type": "markdown",
   "id": "cd3b54be",
   "metadata": {
    "papermill": {
     "duration": 2.890898,
     "end_time": "2021-08-13T14:43:55.271973",
     "exception": false,
     "start_time": "2021-08-13T14:43:52.381075",
     "status": "completed"
    },
    "tags": []
   },
   "source": [
    "## For my CPU AMD-Ryzen 9 5900 HX the score (lower is better) is 92\n",
    "🔥 It takes roughly 92 seconds per epoch, may vary depending on your cpu stats"
   ]
  },
  {
   "cell_type": "code",
   "execution_count": 13,
   "id": "2a84b1cb",
   "metadata": {
    "execution": {
     "iopub.execute_input": "2021-08-13T14:44:01.834346Z",
     "iopub.status.busy": "2021-08-13T14:44:01.833518Z",
     "iopub.status.idle": "2021-08-13T14:44:01.836850Z",
     "shell.execute_reply": "2021-08-13T14:44:01.837391Z"
    },
    "papermill": {
     "duration": 3.145484,
     "end_time": "2021-08-13T14:44:01.837539",
     "exception": false,
     "start_time": "2021-08-13T14:43:58.692055",
     "status": "completed"
    },
    "tags": []
   },
   "outputs": [
    {
     "data": {
      "text/plain": [
       "240.71428571428572"
      ]
     },
     "execution_count": 13,
     "metadata": {},
     "output_type": "execute_result"
    }
   ],
   "source": [
    "cpu_score = sum(cpu_list)/len(cpu_list)\n",
    "cpu_score"
   ]
  },
  {
   "cell_type": "markdown",
   "id": "741e13f9",
   "metadata": {
    "papermill": {
     "duration": 3.991512,
     "end_time": "2021-08-13T14:44:09.015328",
     "exception": false,
     "start_time": "2021-08-13T14:44:05.023816",
     "status": "completed"
    },
    "tags": []
   },
   "source": [
    "# GPU ONLY"
   ]
  },
  {
   "cell_type": "code",
   "execution_count": 14,
   "id": "1844cc1f",
   "metadata": {
    "ExecuteTime": {
     "end_time": "2021-08-12T04:13:38.824170Z",
     "start_time": "2021-08-12T04:13:38.698683Z"
    },
    "execution": {
     "iopub.execute_input": "2021-08-13T14:44:15.303426Z",
     "iopub.status.busy": "2021-08-13T14:44:15.302752Z",
     "iopub.status.idle": "2021-08-13T14:44:16.053138Z",
     "shell.execute_reply": "2021-08-13T14:44:16.052614Z"
    },
    "papermill": {
     "duration": 3.873432,
     "end_time": "2021-08-13T14:44:16.053279",
     "exception": false,
     "start_time": "2021-08-13T14:44:12.179847",
     "status": "completed"
    },
    "tags": []
   },
   "outputs": [
    {
     "name": "stdout",
     "output_type": "stream",
     "text": [
      "Fri Aug 13 14:44:15 2021       \r\n",
      "+-----------------------------------------------------------------------------+\r\n",
      "| NVIDIA-SMI 450.119.04   Driver Version: 450.119.04   CUDA Version: 11.0     |\r\n",
      "|-------------------------------+----------------------+----------------------+\r\n",
      "| GPU  Name        Persistence-M| Bus-Id        Disp.A | Volatile Uncorr. ECC |\r\n",
      "| Fan  Temp  Perf  Pwr:Usage/Cap|         Memory-Usage | GPU-Util  Compute M. |\r\n",
      "|                               |                      |               MIG M. |\r\n",
      "|===============================+======================+======================|\r\n",
      "|   0  Tesla P100-PCIE...  Off  | 00000000:00:04.0 Off |                    0 |\r\n",
      "| N/A   39C    P0    34W / 250W |    369MiB / 16280MiB |      0%      Default |\r\n",
      "|                               |                      |                  N/A |\r\n",
      "+-------------------------------+----------------------+----------------------+\r\n",
      "                                                                               \r\n",
      "+-----------------------------------------------------------------------------+\r\n",
      "| Processes:                                                                  |\r\n",
      "|  GPU   GI   CI        PID   Type   Process name                  GPU Memory |\r\n",
      "|        ID   ID                                                   Usage      |\r\n",
      "|=============================================================================|\r\n",
      "+-----------------------------------------------------------------------------+\r\n"
     ]
    }
   ],
   "source": [
    "!nvidia-smi"
   ]
  },
  {
   "cell_type": "code",
   "execution_count": 15,
   "id": "b1ff6c89",
   "metadata": {
    "ExecuteTime": {
     "end_time": "2021-08-12T04:12:20.980873Z",
     "start_time": "2021-08-12T04:12:20.872289Z"
    },
    "execution": {
     "iopub.execute_input": "2021-08-13T14:44:22.505709Z",
     "iopub.status.busy": "2021-08-13T14:44:22.504746Z",
     "iopub.status.idle": "2021-08-13T14:44:22.624071Z",
     "shell.execute_reply": "2021-08-13T14:44:22.623621Z"
    },
    "papermill": {
     "duration": 3.110917,
     "end_time": "2021-08-13T14:44:22.624195",
     "exception": false,
     "start_time": "2021-08-13T14:44:19.513278",
     "status": "completed"
    },
    "tags": []
   },
   "outputs": [],
   "source": [
    "num_filter=32\n",
    "num_dense=512\n",
    "drop_dense=0.7\n",
    "ac='relu'\n",
    "learningrate=0.001\n",
    "\n",
    "model = Sequential()\n",
    "\n",
    "model.add(Conv2D(num_filter, (3, 3), activation=ac, input_shape=(28, 28, 1),padding='same'))\n",
    "model.add(BatchNormalization(axis=-1))\n",
    "model.add(Conv2D(num_filter, (3, 3), activation=ac,padding='same'))\n",
    "model.add(BatchNormalization(axis=-1))\n",
    "model.add(MaxPooling2D(pool_size=(2, 2)))   # reduces to 14x14x32\n",
    "\n",
    "model.add(Conv2D(2*num_filter, (3, 3), activation=ac,padding='same'))\n",
    "model.add(BatchNormalization(axis=-1))\n",
    "model.add(Conv2D(2*num_filter, (3, 3), activation=ac,padding='same'))\n",
    "model.add(BatchNormalization(axis=-1))\n",
    "model.add(MaxPooling2D(pool_size=(2, 2)))   # reduces to 7x7x64 = 3136 neurons\n",
    "\n",
    "model.add(Flatten())                        \n",
    "model.add(Dense(num_dense, activation=ac))\n",
    "model.add(BatchNormalization())\n",
    "model.add(Dropout(drop_dense))\n",
    "model.add(Dense(10, activation='softmax'))\n",
    "\n",
    "model.compile(loss='categorical_crossentropy', metrics=['accuracy'],optimizer=optimizer)"
   ]
  },
  {
   "cell_type": "code",
   "execution_count": 16,
   "id": "f16cff4d",
   "metadata": {
    "ExecuteTime": {
     "end_time": "2021-08-12T04:13:37.623124Z",
     "start_time": "2021-08-12T04:12:20.981874Z"
    },
    "execution": {
     "iopub.execute_input": "2021-08-13T14:44:28.476367Z",
     "iopub.status.busy": "2021-08-13T14:44:28.475480Z",
     "iopub.status.idle": "2021-08-13T14:45:59.330715Z",
     "shell.execute_reply": "2021-08-13T14:45:59.331189Z"
    },
    "papermill": {
     "duration": 93.765992,
     "end_time": "2021-08-13T14:45:59.331341",
     "exception": false,
     "start_time": "2021-08-13T14:44:25.565349",
     "status": "completed"
    },
    "tags": []
   },
   "outputs": [
    {
     "name": "stdout",
     "output_type": "stream",
     "text": [
      "gpu_list :  []\n",
      "batch size 8\n",
      "7500/7500 [==============================] - 39s 4ms/step - loss: 0.4000 - accuracy: 0.8823 - val_loss: 0.0549 - val_accuracy: 0.9817\n",
      "batch size 16\n",
      "3750/3750 [==============================] - 20s 5ms/step - loss: 0.0697 - accuracy: 0.9791 - val_loss: 0.0235 - val_accuracy: 0.9912\n",
      "batch size 32\n",
      "1875/1875 [==============================] - 14s 7ms/step - loss: 0.0440 - accuracy: 0.9868 - val_loss: 0.0210 - val_accuracy: 0.9925\n",
      "batch size 64\n",
      "938/938 [==============================] - 6s 7ms/step - loss: 0.0342 - accuracy: 0.9893 - val_loss: 0.0189 - val_accuracy: 0.9933\n",
      "batch size 128\n",
      "469/469 [==============================] - 4s 9ms/step - loss: 0.0304 - accuracy: 0.9908 - val_loss: 0.0185 - val_accuracy: 0.9935\n",
      "batch size 256\n",
      "235/235 [==============================] - 3s 14ms/step - loss: 0.0277 - accuracy: 0.9914 - val_loss: 0.0180 - val_accuracy: 0.9933\n",
      "batch size 512\n",
      "118/118 [==============================] - 3s 23ms/step - loss: 0.0263 - accuracy: 0.9921 - val_loss: 0.0181 - val_accuracy: 0.9932\n"
     ]
    }
   ],
   "source": [
    "gpu_list=[]\n",
    "batch_sizes = []\n",
    "print(\"gpu_list : \", gpu_list)\n",
    "with tf.device(\"/gpu:0\"):\n",
    "    for i in range(0,7):\n",
    "        k=8*2**i\n",
    "        print(\"batch size \"+str(k))\n",
    "        t1 = time.time()\n",
    "        model.fit(x_train, y_train, batch_size=k, epochs=1, validation_data=(x_test, y_test))\n",
    "        t2 = time.time()\n",
    "        gpu_list.append(int(t2-t1))\n",
    "        batch_sizes.append(k)"
   ]
  },
  {
   "cell_type": "code",
   "execution_count": 17,
   "id": "5887b7e2",
   "metadata": {
    "ExecuteTime": {
     "end_time": "2021-08-12T04:13:37.638544Z",
     "start_time": "2021-08-12T04:13:37.624545Z"
    },
    "execution": {
     "iopub.execute_input": "2021-08-13T14:46:05.891968Z",
     "iopub.status.busy": "2021-08-13T14:46:05.891168Z",
     "iopub.status.idle": "2021-08-13T14:46:05.894575Z",
     "shell.execute_reply": "2021-08-13T14:46:05.895080Z"
    },
    "papermill": {
     "duration": 3.311248,
     "end_time": "2021-08-13T14:46:05.895226",
     "exception": false,
     "start_time": "2021-08-13T14:46:02.583978",
     "status": "completed"
    },
    "tags": []
   },
   "outputs": [
    {
     "data": {
      "text/plain": [
       "[38, 20, 13, 6, 4, 3, 3]"
      ]
     },
     "execution_count": 17,
     "metadata": {},
     "output_type": "execute_result"
    }
   ],
   "source": [
    "gpu_list"
   ]
  },
  {
   "cell_type": "markdown",
   "id": "32519cde",
   "metadata": {
    "papermill": {
     "duration": 3.250537,
     "end_time": "2021-08-13T14:46:12.696764",
     "exception": false,
     "start_time": "2021-08-13T14:46:09.446227",
     "status": "completed"
    },
    "tags": []
   },
   "source": [
    "# 🔥 For my GPU NVIDIA-RTX 3060 the score on average is 10\n",
    "### 🔥 While my CPU took 90 sec per epoch on average, my GPU just finished it in 10 sec"
   ]
  },
  {
   "cell_type": "markdown",
   "id": "9c987fd2",
   "metadata": {
    "papermill": {
     "duration": 3.547542,
     "end_time": "2021-08-13T14:46:19.620227",
     "exception": false,
     "start_time": "2021-08-13T14:46:16.072685",
     "status": "completed"
    },
    "tags": []
   },
   "source": [
    "As you can see the GPU is way more faster than CPU, it helps us to **reduce training times** for deep learning models"
   ]
  },
  {
   "cell_type": "code",
   "execution_count": 18,
   "id": "b8a45bb7",
   "metadata": {
    "ExecuteTime": {
     "end_time": "2021-08-12T04:13:37.654152Z",
     "start_time": "2021-08-12T04:13:37.639545Z"
    },
    "execution": {
     "iopub.execute_input": "2021-08-13T14:46:26.283894Z",
     "iopub.status.busy": "2021-08-13T14:46:26.283077Z",
     "iopub.status.idle": "2021-08-13T14:46:26.285903Z",
     "shell.execute_reply": "2021-08-13T14:46:26.286300Z"
    },
    "papermill": {
     "duration": 3.319127,
     "end_time": "2021-08-13T14:46:26.286442",
     "exception": false,
     "start_time": "2021-08-13T14:46:22.967315",
     "status": "completed"
    },
    "tags": []
   },
   "outputs": [
    {
     "data": {
      "text/plain": [
       "12.428571428571429"
      ]
     },
     "execution_count": 18,
     "metadata": {},
     "output_type": "execute_result"
    }
   ],
   "source": [
    "gpu_score = sum(gpu_list)/len(gpu_list)\n",
    "gpu_score"
   ]
  },
  {
   "cell_type": "code",
   "execution_count": 19,
   "id": "59d7f6b3",
   "metadata": {
    "ExecuteTime": {
     "end_time": "2021-08-12T04:13:37.809908Z",
     "start_time": "2021-08-12T04:13:37.655685Z"
    },
    "execution": {
     "iopub.execute_input": "2021-08-13T14:46:33.676078Z",
     "iopub.status.busy": "2021-08-13T14:46:33.662540Z",
     "iopub.status.idle": "2021-08-13T14:46:33.886753Z",
     "shell.execute_reply": "2021-08-13T14:46:33.887174Z"
    },
    "papermill": {
     "duration": 3.569958,
     "end_time": "2021-08-13T14:46:33.887313",
     "exception": false,
     "start_time": "2021-08-13T14:46:30.317355",
     "status": "completed"
    },
    "tags": []
   },
   "outputs": [
    {
     "data": {
      "image/png": "[encoded data removed]",
      "text/plain": [
       "<Figure size 432x288 with 1 Axes>"
      ]
     },
     "metadata": {
      "needs_background": "light"
     },
     "output_type": "display_data"
    }
   ],
   "source": [
    "plt.plot(batch_sizes,gpu_list,'bo')\n",
    "plt.plot(batch_sizes,cpu_list,'ro')\n",
    "plt.plot(batch_sizes,gpu_list,'b--')\n",
    "plt.plot(batch_sizes,cpu_list,'r--')\n",
    "plt.ylabel('training time per epoch (s)')\n",
    "plt.xlabel('batch size')\n",
    "plt.legend(['gpu', 'cpu'], loc='upper right')\n",
    "plt.ylim([0,400])\n",
    "plt.savefig('CPUvsGPU.png') \n",
    "plt.show()"
   ]
  },
  {
   "cell_type": "markdown",
   "id": "1ad8ab3c",
   "metadata": {
    "papermill": {
     "duration": 3.27817,
     "end_time": "2021-08-13T14:46:40.492426",
     "exception": false,
     "start_time": "2021-08-13T14:46:37.214256",
     "status": "completed"
    },
    "tags": []
   },
   "source": [
    "# Don't forget to comment your CPU and GPU scores 😁👯‍"
   ]
  }
 ],
 "metadata": {
  "kernelspec": {
   "display_name": "Python 3",
   "language": "python",
   "name": "python3"
  },
  "language_info": {
   "codemirror_mode": {
    "name": "ipython",
    "version": 3
   },
   "file_extension": ".py",
   "mimetype": "text/x-python",
   "name": "python",
   "nbconvert_exporter": "python",
   "pygments_lexer": "ipython3",
   "version": "3.7.10"
  },
  "papermill": {
   "default_parameters": {},
   "duration": 1885.444368,
   "end_time": "2021-08-13T14:46:46.838215",
   "environment_variables": {},
   "exception": null,
   "input_path": "__notebook__.ipynb",
   "output_path": "__notebook__.ipynb",
   "parameters": {},
   "start_time": "2021-08-13T14:15:21.393847",
   "version": "2.3.3"
  }
 },
 "nbformat": 4,
 "nbformat_minor": 5
}
