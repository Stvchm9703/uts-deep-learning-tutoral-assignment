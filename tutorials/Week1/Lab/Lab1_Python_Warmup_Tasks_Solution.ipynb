{
  "cells": [
    {
      "cell_type": "markdown",
      "metadata": {
        "id": "qNUazSn0m3hI"
      },
      "source": [
        "#**42028: Deep Learning and CNN**\n",
        "## Week1: Python Warmup Tasks - SOLUTIONS\n",
        "Welcome to Week 1 tutorial session. This is a warmup session for Python programming. We will solve the following tasks in this session:\n",
        "1.\tTask -1: Loops and conditions\n",
        "2.\tTask -2: Lists\n",
        "3.\tTask -3: Maths functions\n",
        "4.\tTask -4: More Maths functions!\n",
        "\n",
        "So lets get started!\n"
      ]
    },
    {
      "cell_type": "markdown",
      "metadata": {
        "id": "AAJk3Qg1ZS9j"
      },
      "source": [
        "# Connect to your Google Drive:"
      ]
    },
    {
      "cell_type": "code",
      "execution_count": 1,
      "metadata": {
        "id": "s-76LueFYykJ",
        "colab": {
          "base_uri": "https://localhost:8080/"
        },
        "outputId": "a15f8680-e7f5-4816-a9b0-dac195105013"
      },
      "outputs": [
        {
          "output_type": "stream",
          "name": "stdout",
          "text": [
            "Mounted at /content/gdrive\n"
          ]
        }
      ],
      "source": [
        "from google.colab import drive\n",
        "drive.mount('/content/gdrive')"
      ]
    },
    {
      "cell_type": "markdown",
      "metadata": {
        "id": "82FZfg_hzTpr"
      },
      "source": [
        "#Change the directory to \"42028/Week1/\"\n",
        "\n"
      ]
    },
    {
      "cell_type": "code",
      "execution_count": 2,
      "metadata": {
        "id": "HnknC5EnzajK",
        "colab": {
          "base_uri": "https://localhost:8080/"
        },
        "outputId": "84bf5c95-3a18-4df2-ff04-54b0221156f1"
      },
      "outputs": [
        {
          "output_type": "stream",
          "name": "stdout",
          "text": [
            "/content/gdrive/MyDrive/42028/Week1\n"
          ]
        }
      ],
      "source": [
        "cd /content/gdrive/MyDrive/42028/Week1"
      ]
    },
    {
      "cell_type": "markdown",
      "metadata": {
        "id": "a-RH_Fpgz0ib"
      },
      "source": [
        "# Listing the directory contents"
      ]
    },
    {
      "cell_type": "code",
      "execution_count": 3,
      "metadata": {
        "id": "PNGXwy_1z6KE",
        "colab": {
          "base_uri": "https://localhost:8080/"
        },
        "outputId": "4000f664-0c28-41a7-8221-77ecc9599be8"
      },
      "outputs": [
        {
          "output_type": "stream",
          "name": "stdout",
          "text": [
            " \u001b[0m\u001b[01;34mdataset\u001b[0m/     'Intro to OpenCV.ipynb'            Lab1_Python-Warmup-Tasks.ipynb\n",
            " dataset.zip  'Intro to OpenCV-solution.ipynb'   Lab1_Python-Warmup-Tasks-Solution.ipynb\n"
          ]
        }
      ],
      "source": [
        "ls"
      ]
    },
    {
      "cell_type": "markdown",
      "metadata": {
        "id": "-q5YmMFIMb5J"
      },
      "source": [
        "# Python WarmUp Task-1\n",
        "Topic: Loops and Conditions"
      ]
    },
    {
      "cell_type": "markdown",
      "metadata": {
        "id": "XBtLAZ25Mzf7"
      },
      "source": [
        "**Question**: You have an array  **A1** of dimension 5X5. Check whether the value in each cell is less than a **Threshold** and use the rules given below to create a result array **R1**:\n",
        "\n",
        "**Rule-1: ** If Cell_Value_A1 <= **Threshold**, Cell_Value_R1 = 0\n",
        "\n",
        "**Rule-2: ** If Cell_Value_A1 > **Threshold**, Cell_Value_R1 = 1\n",
        "\n",
        "An example of sample Array **A1** and **R1** is given below, for a **Threshold** = 99:\n",
        "\n",
        "<img src='http://drive.google.com/uc?export=view&id=1oGNv7cUvDiiVB2WIE5QoXQMIvXbz5UTT' alt='AI'>\n",
        "\n",
        "\n",
        "**Complete the below function which will return the result array R1 after applying the rules to the array A1:**"
      ]
    },
    {
      "cell_type": "code",
      "execution_count": 4,
      "metadata": {
        "id": "PpjwFu8sfMoH"
      },
      "outputs": [],
      "source": [
        "def ArrayProcess(A1, A1_dimension, Threshold):\n",
        "  # Write your Code here:\n",
        "  R1=A1\n",
        "  for row in range(A1_dimension):\n",
        "    for col in range(A1_dimension):\n",
        "      if R1[row][col] <= Threshold:\n",
        "        R1[row][col]=0\n",
        "      else:\n",
        "        R1[row][col]=1\n",
        "\n",
        "  return R1\n"
      ]
    },
    {
      "cell_type": "markdown",
      "metadata": {
        "id": "ydmqsX9unrMO"
      },
      "source": [
        "## Testing:\n",
        "**[Expected Output] ** \\\\\n",
        "**Let A1 be:** \\\\\n",
        "10  101  15  12  100 \\\\\n",
        "12  125  19  14  120  \\\\\n",
        "18  155  18  16  115 \\\\\n",
        "19  140  14  18  130 \\\\\n",
        "20  135  16  13  125 \\\\\n",
        "\n",
        "**R1 should be:**\n",
        "\n",
        "0  1  0  0  1 \\\\\n",
        "0  1  0  0  1 \\\\\n",
        "0  1  0  0  1 \\\\\n",
        "0  1  0  0  1 \\\\\n",
        "0  1  0  0  1 \\\\\n",
        "\n",
        "###**TESTING CODE:** Run the below code and check the output of your function:"
      ]
    },
    {
      "cell_type": "code",
      "execution_count": 5,
      "metadata": {
        "id": "r41b5UCrMzIv",
        "colab": {
          "base_uri": "https://localhost:8080/"
        },
        "outputId": "9ac42ccf-5ea1-42f1-bc65-19a70de28dac"
      },
      "outputs": [
        {
          "output_type": "stream",
          "name": "stdout",
          "text": [
            "The A1 array is:\n",
            "10 101 15 12 100 \n",
            "12 125 19 14 120 \n",
            "18 155 18 16 115 \n",
            "19 140 14 18 130 \n",
            "20 135 16 13 125 \n",
            "The R1 array is:\n",
            "0 1 0 0 1 \n",
            "0 1 0 0 1 \n",
            "0 1 0 0 1 \n",
            "0 1 0 0 1 \n",
            "0 1 0 0 1 \n"
          ]
        }
      ],
      "source": [
        "# Define A1, A1_dimension, and the Threshold value\n",
        "A1=[[10, 101, 15, 12, 100], [12, 125, 19, 14, 120], [18, 155, 18, 16, 115], [19, 140, 14, 18, 130], [20, 135, 16, 13, 125]]\n",
        "A1_dimension =5\n",
        "Threshold = 99\n",
        "\n",
        "# Printing the A1 array\n",
        "print(\"The A1 array is:\")\n",
        "for row in range(A1_dimension):\n",
        "  for col in range(A1_dimension):\n",
        "    print(A1[row][col], end=' ')\n",
        "  print()\n",
        "\n",
        "# Process the A1 array\n",
        "R1=ArrayProcess(A1, A1_dimension, Threshold)\n",
        "\n",
        "# Printing the R1 array\n",
        "print(\"The R1 array is:\")\n",
        "for row in range(A1_dimension):\n",
        "  for col in range(A1_dimension):\n",
        "    print(R1[row][col], end=' ')\n",
        "  print()"
      ]
    },
    {
      "cell_type": "markdown",
      "metadata": {
        "id": "iCnPj2TtTtk4"
      },
      "source": [
        "# Python Warmup Task-2\n",
        "Topic: Lists"
      ]
    },
    {
      "cell_type": "markdown",
      "metadata": {
        "id": "5yTEHeXHaKu_"
      },
      "source": [
        "**Question** You have a list of **'n'** number data sample. Perform the following operations:\n",
        "\n",
        "1. Split the list into three sublists in the following ratio:\n",
        "**List1:** 60% of total samples, **List2:** 20% of total sample and ** List3: ** 20% of total samples\n",
        "\n",
        "2. Shuffle the list and split the into three sublist in the same way as mentioned in operation-1\n",
        "\n",
        "**Hint:** random.shuffle(*<list-name>*) will shuffle the list elements\n",
        "\n",
        "**Complete the below function to achieve the two task as mentioned above and  will return the three seperate lists**"
      ]
    },
    {
      "cell_type": "code",
      "execution_count": 6,
      "metadata": {
        "id": "IdxRlHEsaKN2"
      },
      "outputs": [],
      "source": [
        "def SplitList(InputList, shuffle=False):\n",
        "  if(shuffle):\n",
        "    random.shuffle(InputList)\n",
        "\n",
        "  List1=InputList[:int(len(InputList)*0.6)] # [:5000] [5000:]\n",
        "  List2=InputList[int(len(InputList)*0.6): int(len(InputList)*0.8)]\n",
        "  List3=InputList[int(len(InputList)*0.8):]\n",
        "\n",
        "  return List1, List2, List3\n",
        ""
      ]
    },
    {
      "cell_type": "markdown",
      "metadata": {
        "id": "8aBFZ-ICgL9Y"
      },
      "source": [
        "##Testing:\n",
        "InputList = [\"Sample1\", \"Sample2\", \"Sample3\", \"Sample4\", \"Sample5\", \"Sample6\", \"Sample7\", \"Sample8\", \"Sample9\", \"Sample10\"]\n",
        "\n",
        "**[Expected Output]**\n",
        "\n",
        "**A. Without Shuffling the List:**\n",
        "\n",
        "  List1 = ['Sample6', 'Sample7', 'Sample3', 'Sample10', 'Sample4', 'Sample2']\n",
        "\n",
        "  List2 = ['Sample9', 'Sample1']\n",
        "\n",
        "  List3 = ['Sample8', 'Sample5']\n",
        "  \n",
        "**B. With Shuffling: The output is random**\n",
        "\n",
        "###**TESTING CODE:** Check the output of your function by running the code given below:"
      ]
    },
    {
      "cell_type": "code",
      "execution_count": 7,
      "metadata": {
        "id": "6e3zmulOT3BY",
        "colab": {
          "base_uri": "https://localhost:8080/"
        },
        "outputId": "2dd10707-e8a1-49f0-d63e-47367c13323f"
      },
      "outputs": [
        {
          "output_type": "stream",
          "name": "stdout",
          "text": [
            "The InputList is:\n",
            " ['Sample1', 'Sample2', 'Sample3', 'Sample4', 'Sample5', 'Sample6', 'Sample7', 'Sample8', 'Sample9', 'Sample10']\n",
            "\n",
            "The sublist elements without shuffling are:\n",
            "List1: ['Sample1', 'Sample2', 'Sample3', 'Sample4', 'Sample5', 'Sample6']\n",
            "List2: ['Sample7', 'Sample8']\n",
            "List3: ['Sample9', 'Sample10']\n",
            "\n",
            "The sublist elements after shuffling are:\n",
            "List1: ['Sample3', 'Sample8', 'Sample9', 'Sample5', 'Sample1', 'Sample7']\n",
            "List2: ['Sample4', 'Sample6']\n",
            "List3: ['Sample2', 'Sample10']\n"
          ]
        }
      ],
      "source": [
        "import random\n",
        "#Create a DataList\n",
        "DataList = [\"Sample1\", \"Sample2\", \"Sample3\", \"Sample4\",\"Sample5\", \"Sample6\",\"Sample7\", \"Sample8\",\"Sample9\", \"Sample10\"]\n",
        "print(\"The InputList is:\\n\", DataList) # Display the list elements\n",
        "\n",
        "# Call the function SplitList without Shuffling\n",
        "L1, L2, L3 = SplitList(DataList, False)\n",
        "# Display the elements in each list\n",
        "print(\"\\nThe sublist elements without shuffling are:\")\n",
        "print(\"List1:\", L1)\n",
        "print(\"List2:\", L2)\n",
        "print(\"List3:\", L3)\n",
        "\n",
        "# Call the function SplitList without Shuffling\n",
        "L1, L2, L3 = SplitList(DataList, True)\n",
        "# Display the elements in each list\n",
        "print(\"\\nThe sublist elements after shuffling are:\")\n",
        "print(\"List1:\", L1)\n",
        "print(\"List2:\", L2)\n",
        "print(\"List3:\", L3)"
      ]
    },
    {
      "cell_type": "markdown",
      "metadata": {
        "id": "2fKFGZXfiweY"
      },
      "source": [
        "# Python Warmup Task-3\n",
        "**Topic: Mathematical expressions in Python**"
      ]
    },
    {
      "cell_type": "markdown",
      "metadata": {
        "id": "3F3S0iPGj-wc"
      },
      "source": [
        "**Question** Write the function which calculates the Root Mean Squared Error (RMSE) using the formula given below:\n",
        "\n",
        "![alt text](https://i.stack.imgur.com/RIq96.png)\n",
        "\n",
        "\n",
        "**Note:** RMSE answers the question: \"How similar, on average, are the numbers in list1 to list2?\". The two lists must be the same size. I want to \"wash out the noise between any two given elements, wash out the size of the data collected, and get a single number feel for change over time\".\n",
        "\n",
        "**Complete the function given below which returns the RMSE of two list such as Prediction and Target**\n",
        "\n",
        "**Hint** Useful methods from numpy\n",
        "\n",
        "1. sqrt()\n",
        "\n",
        "2. mean()\n",
        "\n",
        "3. ** --> power\n",
        "\n",
        "\n",
        "**Reference**: https://docs.python.org/2/library/math.html\n"
      ]
    },
    {
      "cell_type": "code",
      "execution_count": 8,
      "metadata": {
        "id": "TOAP980XmP26"
      },
      "outputs": [],
      "source": [
        "import numpy as np\n",
        "def rmse(predictions, targets):\n",
        "    return np.sqrt(((predictions - targets) ** 2).mean())"
      ]
    },
    {
      "cell_type": "markdown",
      "metadata": {
        "id": "wG8oilMzrEkH"
      },
      "source": [
        "##Testing\n",
        "\n",
        "Let,\n",
        "\n",
        "**target= [0.000, 0.166, 0.333]**\n",
        "\n",
        "**prediction = [0.000, 0.254, 0.998]**\n",
        "\n",
        "\n",
        "\n",
        "**[Expected Output]**\n",
        "\n",
        "**RMSE** = 0.3872849941150143\n",
        "\n",
        "###**TESTING CODE:** Check the output of your function by running the code given below:"
      ]
    },
    {
      "cell_type": "code",
      "execution_count": 9,
      "metadata": {
        "id": "-ivTVxo7mi1v",
        "colab": {
          "base_uri": "https://localhost:8080/"
        },
        "outputId": "da1e12e4-d2ee-40bb-c8ff-d586480fb22c"
      },
      "outputs": [
        {
          "output_type": "stream",
          "name": "stdout",
          "text": [
            "RMSE: 0.3872849941150143\n"
          ]
        }
      ],
      "source": [
        "t = [0.000, 0.166, 0.333]\n",
        "p = [0.000, 0.254, 0.998]\n",
        "\n",
        "rmse_val = rmse(np.array(p), np.array(t))\n",
        "print(\"RMSE: \" + str(rmse_val))"
      ]
    },
    {
      "cell_type": "markdown",
      "metadata": {
        "id": "4GF6MzC-wYH_"
      },
      "source": [
        "#Python Warmup Task-4\n",
        "**Topic: Mathematical expressions in Python**\n",
        "\n",
        "\n",
        "A logistic sigmoid function is of a form:\n",
        "\n",
        "![alt text](https://i.stack.imgur.com/SUuRi.png)\n",
        "\n",
        "Write a function to calculate F(x) is Python.\n",
        "\n",
        "Hint:\n",
        "\n",
        "**exp(x)** --> Return e**x.\n",
        "\n",
        "\n",
        "**Reference**: https://docs.python.org/2/library/math.html"
      ]
    },
    {
      "cell_type": "code",
      "execution_count": 10,
      "metadata": {
        "id": "PQYKoNRvpV3f"
      },
      "outputs": [],
      "source": [
        "import math\n",
        "def sigmoid(x):\n",
        "  return 1 / (1 + math.exp(-x))"
      ]
    },
    {
      "cell_type": "markdown",
      "metadata": {
        "id": "ws9_G0Ugx3dr"
      },
      "source": [
        "##Testing:\n",
        "\n",
        "For, x = 0.458\n",
        "\n",
        "**[Expected Output]**\n",
        "\n",
        "sigmoid(0.458) --> 0.6125396134409151\n",
        "\n",
        "###**TESTING CODE:** Check the output of your function by running the code given below:"
      ]
    },
    {
      "cell_type": "code",
      "execution_count": 11,
      "metadata": {
        "id": "WzSbIXxLx2YE",
        "colab": {
          "base_uri": "https://localhost:8080/"
        },
        "outputId": "22d1cfe9-d32b-4990-8f2e-5b0f2de02668"
      },
      "outputs": [
        {
          "output_type": "stream",
          "name": "stdout",
          "text": [
            "0.6125396134409151\n"
          ]
        }
      ],
      "source": [
        "x = 0.458\n",
        "print(sigmoid(x))"
      ]
    },
    {
      "cell_type": "code",
      "source": [],
      "metadata": {
        "id": "4D2ybWCrHBWu"
      },
      "execution_count": null,
      "outputs": []
    }
  ],
  "metadata": {
    "colab": {
      "provenance": []
    },
    "kernelspec": {
      "display_name": "Python 3",
      "name": "python3"
    }
  },
  "nbformat": 4,
  "nbformat_minor": 0
}